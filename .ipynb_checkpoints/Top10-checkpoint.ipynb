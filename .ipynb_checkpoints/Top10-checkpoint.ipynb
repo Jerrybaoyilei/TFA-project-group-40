{
 "cells": [
  {
   "cell_type": "code",
   "execution_count": 1,
   "id": "79f45e80",
   "metadata": {},
   "outputs": [
    {
     "name": "stderr",
     "output_type": "stream",
     "text": [
      "/opt/anaconda3/lib/python3.8/site-packages/IPython/core/interactiveshell.py:3437: DtypeWarning: Columns (20,31,32) have mixed types.Specify dtype option on import or set low_memory=False.\n",
      "  exec(code_obj, self.user_global_ns, self.user_ns)\n"
     ]
    }
   ],
   "source": [
    "import numpy as np\n",
    "import pandas as pd\n",
    "import os\n",
    "\n",
    "#change directory to the correct working directory\n",
    "os.chdir(\"/Users/zhanbolan/Desktop/TFA\")\n",
    "\n",
    "#create the df from the csv file\n",
    "df = pd.read_csv('311_Service_Requests_2020.csv')"
   ]
  },
  {
   "cell_type": "code",
   "execution_count": 2,
   "id": "eb76ffbf",
   "metadata": {},
   "outputs": [],
   "source": [
    "#create the df for 10033\n",
    "max_Lat = df[df['Incident Zip']==10033]['Latitude'].max()\n",
    "min_Lat = df[df['Incident Zip']==10033]['Latitude'].min()\n",
    "max_long = df[df['Incident Zip']==10033]['Longitude'].max()\n",
    "min_long = df[df['Incident Zip']==10033]['Longitude'].min()\n",
    "df_10033 = df[(df['Latitude']>=min_Lat) & (df['Latitude']<=max_Lat) & (df['Longitude']>=min_long) & (df['Longitude']<=max_long)]"
   ]
  },
  {
   "cell_type": "code",
   "execution_count": 3,
   "id": "072b4ebf",
   "metadata": {},
   "outputs": [],
   "source": [
    "#count the number of each incident type\n",
    "top10 = df_10033.groupby('Complaint Type').count()"
   ]
  },
  {
   "cell_type": "code",
   "execution_count": 4,
   "id": "acb067d7",
   "metadata": {},
   "outputs": [],
   "source": [
    "#sort the types in descending order, and only keep top 10\n",
    "top10=top10.sort_values('Unique Key',ascending=False).head(10)"
   ]
  },
  {
   "cell_type": "code",
   "execution_count": 5,
   "id": "81df7890",
   "metadata": {},
   "outputs": [
    {
     "data": {
      "text/plain": [
       "Complaint Type\n",
       "Noise - Street/Sidewalk        8576\n",
       "Noise - Residential            5166\n",
       "HEAT/HOT WATER                 4523\n",
       "Noise - Vehicle                2362\n",
       "Illegal Fireworks              1245\n",
       "Illegal Parking                1104\n",
       "UNSANITARY CONDITION           1098\n",
       "Non-Emergency Police Matter    1022\n",
       "Water System                    791\n",
       "Noise - Commercial              751\n",
       "Name: Unique Key, dtype: int64"
      ]
     },
     "execution_count": 5,
     "metadata": {},
     "output_type": "execute_result"
    }
   ],
   "source": [
    "#only keep one column as the pd series object we want\n",
    "top10=top10['Unique Key']\n",
    "\n",
    "top10\n",
    "\n"
   ]
  }
 ],
 "metadata": {
  "kernelspec": {
   "display_name": "Python 3",
   "language": "python",
   "name": "python3"
  },
  "language_info": {
   "codemirror_mode": {
    "name": "ipython",
    "version": 3
   },
   "file_extension": ".py",
   "mimetype": "text/x-python",
   "name": "python",
   "nbconvert_exporter": "python",
   "pygments_lexer": "ipython3",
   "version": "3.8.8"
  }
 },
 "nbformat": 4,
 "nbformat_minor": 5
}
